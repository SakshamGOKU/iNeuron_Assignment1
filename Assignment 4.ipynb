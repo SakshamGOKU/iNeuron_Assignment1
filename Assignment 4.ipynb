{
 "cells": [
  {
   "cell_type": "markdown",
   "metadata": {},
   "source": [
    "**1.1 Write a Python Program(with class concepts) to find the area of the triangle using the below\n",
    "formula.\\\n",
    "area = (s*(s-a)*(s-b)*(s-c)) ** 0.5\\\n",
    "Function to take the length of the sides of triangle from user should be defined in the parent\\\n",
    "class and function to calculate the area should be defined in subclass.**"
   ]
  },
  {
   "cell_type": "code",
   "execution_count": 4,
   "metadata": {},
   "outputs": [],
   "source": [
    "class Triangle:\n",
    "    def __init__(self,a,b,c):\n",
    "        self.a=float(a)\n",
    "        self.b=float(b)\n",
    "        self.c=float(c)\n",
    "\n",
    "class Area(Triangle):\n",
    "    def __init__(self,*args,**kwargs):\n",
    "        super(Area, self).__init__(*args,**kwargs)\n",
    "        \n",
    "    def area_calc(self):\n",
    "        s=(self.a+self.b+self.c)/2\n",
    "        return float((s(s-self.a)(s-self.b)(s-self.c)) ** 0.5)\n",
    "    \n",
    "    def __str__(self):\n",
    "        return \"Area of the Triangle is %f,%f,%f\" % (self.a,self.b,self.c)"
   ]
  },
  {
   "cell_type": "code",
   "execution_count": 5,
   "metadata": {},
   "outputs": [],
   "source": [
    "sak = Area(10,40,50)"
   ]
  },
  {
   "cell_type": "code",
   "execution_count": 9,
   "metadata": {},
   "outputs": [
    {
     "name": "stdout",
     "output_type": "stream",
     "text": [
      "Area of the Triangle is 10.000000,40.000000,50.000000\n"
     ]
    }
   ],
   "source": [
    "print(sak)"
   ]
  },
  {
   "cell_type": "code",
   "execution_count": 10,
   "metadata": {},
   "outputs": [
    {
     "name": "stdout",
     "output_type": "stream",
     "text": [
      "<bound method Area.area_calc of <__main__.Area object at 0x0000022B472CE5C8>>\n"
     ]
    }
   ],
   "source": [
    "print(sak.area_calc)"
   ]
  },
  {
   "cell_type": "markdown",
   "metadata": {},
   "source": [
    "**1.2 Write a function filter_long_words() that takes a list of words and an integer n and returns\n",
    "the list of words that are longer than n.**"
   ]
  },
  {
   "cell_type": "code",
   "execution_count": 64,
   "metadata": {},
   "outputs": [],
   "source": [
    "def check(word,n):\n",
    "    if len(word)>n:\n",
    "        return True\n",
    "        \n",
    "def filter_long_words(list_of_words,n):\n",
    "    new_list=[]\n",
    "    for word in list_of_words:\n",
    "        if check(word,n):\n",
    "            new_list.append(word)\n",
    "    return new_list"
   ]
  },
  {
   "cell_type": "code",
   "execution_count": 66,
   "metadata": {},
   "outputs": [
    {
     "data": {
      "text/plain": [
       "['saksham']"
      ]
     },
     "execution_count": 66,
     "metadata": {},
     "output_type": "execute_result"
    }
   ],
   "source": [
    "filter_long_words(['saksham','jain'],5)"
   ]
  },
  {
   "cell_type": "markdown",
   "metadata": {},
   "source": [
    "**2.1 Write a Python program using function concept that maps list of words into a list of integers\n",
    "representing the lengths of the corresponding words.\n",
    "Hint: If a list [ ab,cde,erty] is passed on to the python function output should come as [2,3,4]\n",
    "Here 2,3 and 4 are the lengths of the words in the list.**"
   ]
  },
  {
   "cell_type": "code",
   "execution_count": 71,
   "metadata": {},
   "outputs": [],
   "source": [
    "def word_to_int(words):\n",
    "    new_list=list(map(lambda x: len(x),words))\n",
    "    return new_list"
   ]
  },
  {
   "cell_type": "code",
   "execution_count": 74,
   "metadata": {},
   "outputs": [
    {
     "name": "stdout",
     "output_type": "stream",
     "text": [
      "[7, 4, 4, 0]\n"
     ]
    }
   ],
   "source": [
    "print(word_to_int([\"saksham\",\"jain\",\"cool\",\"\"]))"
   ]
  },
  {
   "cell_type": "markdown",
   "metadata": {},
   "source": [
    "**2.2 Write a Python function which takes a character (i.e. a string of length 1) and returns True if\n",
    "it is a vowel, False otherwise.**"
   ]
  },
  {
   "cell_type": "code",
   "execution_count": 75,
   "metadata": {},
   "outputs": [],
   "source": [
    "def check(char):\n",
    "    vowels=['a','e','i','o','u']\n",
    "    if char in vowels:\n",
    "        return True\n",
    "    else:\n",
    "        return False"
   ]
  },
  {
   "cell_type": "code",
   "execution_count": 76,
   "metadata": {},
   "outputs": [
    {
     "data": {
      "text/plain": [
       "False"
      ]
     },
     "execution_count": 76,
     "metadata": {},
     "output_type": "execute_result"
    }
   ],
   "source": [
    "check('s')"
   ]
  },
  {
   "cell_type": "code",
   "execution_count": null,
   "metadata": {},
   "outputs": [],
   "source": []
  }
 ],
 "metadata": {
  "kernelspec": {
   "display_name": "Python 3",
   "language": "python",
   "name": "python3"
  },
  "language_info": {
   "codemirror_mode": {
    "name": "ipython",
    "version": 3
   },
   "file_extension": ".py",
   "mimetype": "text/x-python",
   "name": "python",
   "nbconvert_exporter": "python",
   "pygments_lexer": "ipython3",
   "version": "3.7.4"
  }
 },
 "nbformat": 4,
 "nbformat_minor": 2
}
